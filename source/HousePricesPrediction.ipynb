{
 "cells": [
  {
   "cell_type": "markdown",
   "metadata": {
    "collapsed": true,
    "deletable": true,
    "editable": true
   },
   "source": [
    "# House prices predictions"
   ]
  },
  {
   "cell_type": "markdown",
   "metadata": {
    "deletable": true,
    "editable": true
   },
   "source": [
    "## Feature analysis "
   ]
  },
  {
   "cell_type": "markdown",
   "metadata": {
    "deletable": true,
    "editable": true
   },
   "source": [
    "- Regressione classica\n",
    "- Feature reduction (PCA, SVD)\n",
    "- Clustering alle case (togliendo prezzo)\n",
    "- cross validation or hold-out"
   ]
  },
  {
   "cell_type": "code",
   "execution_count": 52,
   "metadata": {
    "collapsed": false,
    "deletable": true,
    "editable": true
   },
   "outputs": [],
   "source": [
    "import pandas as pd\n",
    "import numpy as np\n",
    "import seaborn as sns\n",
    "import matplotlib.pyplot as plt\n",
    "from sklearn import linear_model\n",
    "from sklearn.model_selection import train_test_split\n",
    "%matplotlib inline"
   ]
  },
  {
   "cell_type": "code",
   "execution_count": 53,
   "metadata": {
    "collapsed": false,
    "deletable": true,
    "editable": true
   },
   "outputs": [],
   "source": [
    "houses = pd.read_csv(\"../datasets/house_prices/train.csv\")\n",
    "houses = houses._get_numeric_data().dropna(axis=1)"
   ]
  },
  {
   "cell_type": "code",
   "execution_count": 58,
   "metadata": {
    "collapsed": false,
    "deletable": true,
    "editable": true
   },
   "outputs": [
    {
     "name": "stdout",
     "output_type": "stream",
     "text": [
      "1022\n",
      "Root mean squared error: 38752.67\n",
      "Variance score: 0.79\n",
      "1022\n",
      "Root mean squared error: 33643.37\n",
      "Variance score: 0.78\n",
      "1022\n",
      "Root mean squared error: 50421.72\n",
      "Variance score: 0.61\n",
      "1022\n",
      "Root mean squared error: 35218.17\n",
      "Variance score: 0.80\n",
      "1022\n",
      "Root mean squared error: 34119.53\n",
      "Variance score: 0.77\n",
      "1022\n",
      "Root mean squared error: 36678.56\n",
      "Variance score: 0.81\n",
      "1022\n",
      "Root mean squared error: 29909.13\n",
      "Variance score: 0.84\n",
      "1022\n",
      "Root mean squared error: 29151.53\n",
      "Variance score: 0.81\n",
      "1022\n",
      "Root mean squared error: 34633.88\n",
      "Variance score: 0.82\n",
      "1022\n",
      "Root mean squared error: 36293.77\n",
      "Variance score: 0.81\n",
      "\n",
      "Average score: 0.78\n",
      "Average rmse: 35882.23\n"
     ]
    }
   ],
   "source": [
    "# Split the data into training/testing sets\n",
    "#houses_X_train = houses_X[:-20]\n",
    "#houses_X_test = houses_X[-20:]\n",
    "\n",
    "# Split the targets into training/testing sets\n",
    "#houses_y_train = houses_y[:-20]\n",
    "#houses_y_test = houses_y[-20:]\n",
    "\n",
    "iter = 10\n",
    "tot_score = 0.\n",
    "tot_rmse = 0.\n",
    "for i in range(iter):\n",
    "    houses_train, houses_test = train_test_split(houses, test_size=0.3,)\n",
    "    print(len(houses_train))\n",
    "    \n",
    "    houses_X_train = houses_train.drop(['Id', 'SalePrice'], axis=1)\n",
    "    houses_y_train = houses_train['SalePrice']\n",
    "\n",
    "    houses_X_test = houses_test.drop(['Id', 'SalePrice'], axis=1)\n",
    "    houses_y_test = houses_test['SalePrice']\n",
    "    # Create linear regression object\n",
    "    regr = linear_model.LinearRegression()\n",
    "\n",
    "    # Train the model using the training sets\n",
    "    regr.fit(houses_X_train, houses_y_train)\n",
    "\n",
    "    # The coefficients\n",
    "    #print('Coefficients: \\n', regr.coef_, regr.intercept_)\n",
    "    # The mean squared error\n",
    "    rmse = np.sqrt(np.mean((regr.predict(houses_X_test) - houses_y_test) ** 2))\n",
    "    print(\"Root mean squared error: %.2f\"\n",
    "      % rmse)\n",
    "    # Explained variance score: 1 is perfect prediction\n",
    "    score = regr.score(houses_X_test, houses_y_test)\n",
    "    print('Variance score: %.2f' % score)\n",
    "    tot_rmse += rmse\n",
    "    tot_score += score\n",
    "print()\n",
    "print('Average score: %.2f' % float(tot_score/iter))\n",
    "print('Average rmse: %.2f' % float(tot_rmse/iter))    "
   ]
  },
  {
   "cell_type": "code",
   "execution_count": null,
   "metadata": {
    "collapsed": false,
    "deletable": true,
    "editable": true
   },
   "outputs": [],
   "source": []
  },
  {
   "cell_type": "code",
   "execution_count": null,
   "metadata": {
    "collapsed": false,
    "deletable": true,
    "editable": true
   },
   "outputs": [],
   "source": []
  },
  {
   "cell_type": "code",
   "execution_count": null,
   "metadata": {
    "collapsed": true
   },
   "outputs": [],
   "source": []
  }
 ],
 "metadata": {
  "kernelspec": {
   "display_name": "Python 3",
   "language": "python",
   "name": "python3"
  },
  "language_info": {
   "codemirror_mode": {
    "name": "ipython",
    "version": 3
   },
   "file_extension": ".py",
   "mimetype": "text/x-python",
   "name": "python",
   "nbconvert_exporter": "python",
   "pygments_lexer": "ipython3",
   "version": "3.5.0"
  }
 },
 "nbformat": 4,
 "nbformat_minor": 2
}
