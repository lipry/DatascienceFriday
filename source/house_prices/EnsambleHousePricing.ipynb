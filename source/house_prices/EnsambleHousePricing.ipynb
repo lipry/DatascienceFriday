{
 "cells": [
  {
   "cell_type": "code",
   "execution_count": 1,
   "metadata": {
    "collapsed": false,
    "deletable": true,
    "editable": true
   },
   "outputs": [],
   "source": [
    "import pandas as pd\n",
    "from sklearn.ensemble import GradientBoostingRegressor\n",
    "from sklearn import preprocessing\n",
    "import numpy as np"
   ]
  },
  {
   "cell_type": "code",
   "execution_count": 2,
   "metadata": {
    "collapsed": true,
    "deletable": true,
    "editable": true
   },
   "outputs": [],
   "source": [
    "house_train = pd.read_csv('../datasets/house_prices/train.csv')\n",
    "house_test  = pd.read_csv('../datasets/house_prices/test.csv')"
   ]
  },
  {
   "cell_type": "markdown",
   "metadata": {
    "deletable": true,
    "editable": true
   },
   "source": [
    "### Some data preprocessing"
   ]
  },
  {
   "cell_type": "code",
   "execution_count": 3,
   "metadata": {
    "collapsed": false,
    "deletable": true,
    "editable": true
   },
   "outputs": [],
   "source": [
    "all_data = pd.concat([house_train.loc[:,'MSSubClass':'SaleCondition'],\n",
    "                     house_test.loc[:,'MSSubClass':'SaleCondition']])\n",
    "\n"
   ]
  },
  {
   "cell_type": "code",
   "execution_count": 4,
   "metadata": {
    "collapsed": false,
    "deletable": true,
    "editable": true
   },
   "outputs": [
    {
     "data": {
      "text/plain": [
       "(1460, 149)"
      ]
     },
     "execution_count": 4,
     "metadata": {},
     "output_type": "execute_result"
    }
   ],
   "source": [
    "house_train_X = dummies[:house_train.shape[0]]\n",
    "house_train_y = np.log1p(house_train.SalePrice)\n",
    "house_test2 = dummies[house_train.shape[0]:]\n",
    "\n",
    "house_train_X.shape"
   ]
  },
  {
   "cell_type": "markdown",
   "metadata": {
    "deletable": true,
    "editable": true
   },
   "source": [
    "### Stacking approach"
   ]
  },
  {
   "cell_type": "code",
   "execution_count": 5,
   "metadata": {
    "collapsed": true,
    "deletable": true,
    "editable": true
   },
   "outputs": [],
   "source": [
    "from sklearn import linear_model\n",
    "from sklearn.model_selection import train_test_split\n",
    "from sklearn.metrics import mean_squared_error\n",
    "from sklearn.linear_model import Ridge"
   ]
  },
  {
   "cell_type": "code",
   "execution_count": 6,
   "metadata": {
    "collapsed": false,
    "deletable": true,
    "editable": true
   },
   "outputs": [],
   "source": [
    "X_train, X_test, y_train, y_test = train_test_split(house_train_X, \n",
    "                                                    house_train_y,\n",
    "                                                    test_size=0.2, random_state=42)\n",
    "\n"
   ]
  },
  {
   "cell_type": "code",
   "execution_count": 7,
   "metadata": {
    "collapsed": false,
    "deletable": true,
    "editable": true
   },
   "outputs": [
    {
     "name": "stdout",
     "output_type": "stream",
     "text": [
      "(292,)\n",
      "(292,)\n",
      "(146, 2)\n"
     ]
    },
    {
     "name": "stderr",
     "output_type": "stream",
     "text": [
      "/usr/local/lib/python3.5/site-packages/scipy/linalg/basic.py:884: RuntimeWarning: internal gelsd driver lwork query error, required iwork dimension not returned. This is likely the result of LAPACK bug 0038, fixed in LAPACK 3.2.2 (released July 21, 2010). Falling back to 'gelss' driver.\n",
      "  warnings.warn(mesg, RuntimeWarning)\n"
     ]
    },
    {
     "data": {
      "text/plain": [
       "0.87864581935967501"
      ]
     },
     "execution_count": 7,
     "metadata": {},
     "output_type": "execute_result"
    }
   ],
   "source": [
    "regr1 = linear_model.LinearRegression()\n",
    "regr2 = Ridge(alpha=10)\n",
    "meta_regressor = GradientBoostingRegressor(n_estimators=300, learning_rate=0.1, max_depth=1, \n",
    "                                           random_state=0, loss='ls')\n",
    "\n",
    "regr1.fit(X_train, y_train)\n",
    "pred1 = regr1.predict(X_test)\n",
    "print(pred1.shape)\n",
    "\n",
    "regr2.fit(X_train, y_train)\n",
    "pred2 = regr2.predict(X_test)\n",
    "print(pred2.shape)\n",
    "\n",
    "first_levels_pred = pd.DataFrame({'pred1': pred1, 'pred2': pred2})\n",
    "X_flp_train, X_flp_test, y_flp_train, y_flp_test = train_test_split(first_levels_pred, \n",
    "                                                    y_test,\n",
    "                                                    test_size=0.5, random_state=42)\n",
    "print(X_flp_train.shape)\n",
    "meta_regressor.fit(X_flp_train, y_flp_train)\n",
    "meta_pred = meta_regressor.predict(X_flp_test)\n",
    "meta_regressor.score(X_flp_test, y_flp_test)"
   ]
  },
  {
   "cell_type": "code",
   "execution_count": 8,
   "metadata": {
    "collapsed": false,
    "deletable": true,
    "editable": true
   },
   "outputs": [],
   "source": [
    "def submit(df, title='Solution.csv'):\n",
    "    df.to_csv(title, index=False)\n",
    "\n",
    "submit_pred1 = regr1.predict(house_test2)\n",
    "submit_pred2 = regr2.predict(house_test2)\n",
    "submit_flp = pd.DataFrame({'pred1': submit_pred1, 'pred2': submit_pred2})\n",
    "\n",
    "pred = np.expm1(meta_regressor.predict(submit_flp))\n",
    "to_submit = pd.DataFrame({\"Id\":house_test.Id, \"SalePrice\":pred})\n",
    "submit(to_submit, title=\"ensemble_method.csv\")"
   ]
  }
 ],
 "metadata": {
  "kernelspec": {
   "display_name": "Python 3",
   "language": "python",
   "name": "python3"
  },
  "language_info": {
   "codemirror_mode": {
    "name": "ipython",
    "version": 3
   },
   "file_extension": ".py",
   "mimetype": "text/x-python",
   "name": "python",
   "nbconvert_exporter": "python",
   "pygments_lexer": "ipython3",
   "version": "3.5.0"
  }
 },
 "nbformat": 4,
 "nbformat_minor": 2
}
