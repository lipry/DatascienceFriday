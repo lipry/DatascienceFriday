{
 "cells": [
  {
   "cell_type": "markdown",
   "metadata": {},
   "source": [
    "# README\n",
    "\n",
    "Riassiumiamo in questo jupyter tutto ciò che emerge durante gli incontri o che ci viene.\n",
    "\n",
    "## TODO\n",
    "\n",
    "* Lavorare sui dati (frequenza relativa \"skippate\" per ogni utente, allineare i timestamp, capire quali feature sono importanti, aggiungere altre feature)\n",
    "* Esplorare API (utile anche per punto precedente)\n",
    "* Costruire DAG dei generi (con API)\n",
    "* Accordarsi sulla tecnica di validazione\n",
    "\n",
    "## Idee da sviluppare\n",
    "\n",
    "* Raccomendation System\n",
    "* Clustering ( su utente e/o generi)\n",
    "* Usare il DAG dei generi per qualcosa\n",
    "* Rete neurale con backpropagation\n"
   ]
  },
  {
   "cell_type": "code",
   "execution_count": null,
   "metadata": {
    "collapsed": true
   },
   "outputs": [],
   "source": []
  },
  {
   "cell_type": "code",
   "execution_count": null,
   "metadata": {
    "collapsed": true
   },
   "outputs": [],
   "source": []
  }
 ],
 "metadata": {
  "kernelspec": {
   "display_name": "Python 3",
   "language": "python",
   "name": "python3"
  },
  "language_info": {
   "codemirror_mode": {
    "name": "ipython",
    "version": 3
   },
   "file_extension": ".py",
   "mimetype": "text/x-python",
   "name": "python",
   "nbconvert_exporter": "python",
   "pygments_lexer": "ipython3",
   "version": "3.5.0"
  }
 },
 "nbformat": 4,
 "nbformat_minor": 2
}
